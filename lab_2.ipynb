{
  "nbformat": 4,
  "nbformat_minor": 0,
  "metadata": {
    "colab": {
      "provenance": []
    },
    "kernelspec": {
      "name": "python3",
      "display_name": "Python 3"
    },
    "language_info": {
      "name": "python"
    }
  },
  "cells": [
    {
      "cell_type": "markdown",
      "source": [
        "#Задание по практике 2"
      ],
      "metadata": {
        "id": "_dGfjiUjUNab"
      }
    },
    {
      "cell_type": "code",
      "source": [
        "!pip install pandas\n",
        "!pip install seaborn"
      ],
      "metadata": {
        "id": "wXXP-hXKrxPW",
        "colab": {
          "base_uri": "https://localhost:8080/"
        },
        "outputId": "0eadeb75-ba59-4bc4-e5f1-7dd7727c096b"
      },
      "execution_count": null,
      "outputs": [
        {
          "output_type": "stream",
          "name": "stdout",
          "text": [
            "Requirement already satisfied: pandas in /usr/local/lib/python3.10/dist-packages (1.5.3)\n",
            "Requirement already satisfied: python-dateutil>=2.8.1 in /usr/local/lib/python3.10/dist-packages (from pandas) (2.8.2)\n",
            "Requirement already satisfied: pytz>=2020.1 in /usr/local/lib/python3.10/dist-packages (from pandas) (2023.3.post1)\n",
            "Requirement already satisfied: numpy>=1.21.0 in /usr/local/lib/python3.10/dist-packages (from pandas) (1.23.5)\n",
            "Requirement already satisfied: six>=1.5 in /usr/local/lib/python3.10/dist-packages (from python-dateutil>=2.8.1->pandas) (1.16.0)\n",
            "Requirement already satisfied: seaborn in /usr/local/lib/python3.10/dist-packages (0.12.2)\n",
            "Requirement already satisfied: numpy!=1.24.0,>=1.17 in /usr/local/lib/python3.10/dist-packages (from seaborn) (1.23.5)\n",
            "Requirement already satisfied: pandas>=0.25 in /usr/local/lib/python3.10/dist-packages (from seaborn) (1.5.3)\n",
            "Requirement already satisfied: matplotlib!=3.6.1,>=3.1 in /usr/local/lib/python3.10/dist-packages (from seaborn) (3.7.1)\n",
            "Requirement already satisfied: contourpy>=1.0.1 in /usr/local/lib/python3.10/dist-packages (from matplotlib!=3.6.1,>=3.1->seaborn) (1.1.1)\n",
            "Requirement already satisfied: cycler>=0.10 in /usr/local/lib/python3.10/dist-packages (from matplotlib!=3.6.1,>=3.1->seaborn) (0.12.0)\n",
            "Requirement already satisfied: fonttools>=4.22.0 in /usr/local/lib/python3.10/dist-packages (from matplotlib!=3.6.1,>=3.1->seaborn) (4.43.0)\n",
            "Requirement already satisfied: kiwisolver>=1.0.1 in /usr/local/lib/python3.10/dist-packages (from matplotlib!=3.6.1,>=3.1->seaborn) (1.4.5)\n",
            "Requirement already satisfied: packaging>=20.0 in /usr/local/lib/python3.10/dist-packages (from matplotlib!=3.6.1,>=3.1->seaborn) (23.2)\n",
            "Requirement already satisfied: pillow>=6.2.0 in /usr/local/lib/python3.10/dist-packages (from matplotlib!=3.6.1,>=3.1->seaborn) (9.4.0)\n",
            "Requirement already satisfied: pyparsing>=2.3.1 in /usr/local/lib/python3.10/dist-packages (from matplotlib!=3.6.1,>=3.1->seaborn) (3.1.1)\n",
            "Requirement already satisfied: python-dateutil>=2.7 in /usr/local/lib/python3.10/dist-packages (from matplotlib!=3.6.1,>=3.1->seaborn) (2.8.2)\n",
            "Requirement already satisfied: pytz>=2020.1 in /usr/local/lib/python3.10/dist-packages (from pandas>=0.25->seaborn) (2023.3.post1)\n",
            "Requirement already satisfied: six>=1.5 in /usr/local/lib/python3.10/dist-packages (from python-dateutil>=2.7->matplotlib!=3.6.1,>=3.1->seaborn) (1.16.0)\n"
          ]
        }
      ]
    },
    {
      "cell_type": "code",
      "execution_count": null,
      "metadata": {
        "id": "7u0VPzz-UKNu"
      },
      "outputs": [],
      "source": [
        "import pandas as pd\n",
        "import seaborn as sns\n",
        "import matplotlib.pyplot as plt"
      ]
    },
    {
      "cell_type": "markdown",
      "source": [
        "##Введение в описательную статистику"
      ],
      "metadata": {
        "id": "yKPA-E-VVSS-"
      }
    },
    {
      "cell_type": "markdown",
      "source": [
        "1. Выберите категориальную целевую переменную (**Y**)\n",
        "\n",
        "2. Выберите переменную для анализа относительно категории (**X**)\n",
        "\n",
        "3. Выведитие обобщенную статистическую информацию переменной (**X**)\n",
        "\n",
        "2. Вычислите среднее, медиану, моду, минимум, максимум, стандартное отклонение относительно целевой пременной из файла Classification datasets в соответствии с вашим вариантом\n",
        "\n",
        "3. Сделайте вывод относительно полученных результатов\n",
        "\n",
        "p.s если у вас нет категориальных признаков - преобразуйте любой числовой в категориальный (https://pandas.pydata.org/docs/reference/api/pandas.cut.html). Важно **не** использовать преобразованный Y вместе с этим же X (то есть, если вы преобразовали возраст в категорию, то вы не моежет использовать возраст в качестве X и возраст категорию в качестве Y)"
      ],
      "metadata": {
        "id": "Rrr4WPcGUwOx"
      }
    },
    {
      "cell_type": "code",
      "source": [
        "df = pd.read_csv('/content/global-data-on-sustainable-energy (1).csv')\n",
        "df # чтение файла"
      ],
      "metadata": {
        "id": "wZiCpTwgUuYw",
        "colab": {
          "base_uri": "https://localhost:8080/",
          "height": 565
        },
        "outputId": "0892b91e-9e43-477c-ab9b-33b97234979a"
      },
      "execution_count": null,
      "outputs": [
        {
          "output_type": "execute_result",
          "data": {
            "text/plain": [
              "           Entity  Year  Access to electricity (% of population)  \\\n",
              "0     Afghanistan  2000                                 1.613591   \n",
              "1     Afghanistan  2001                                 4.074574   \n",
              "2     Afghanistan  2002                                 9.409158   \n",
              "3     Afghanistan  2003                                14.738506   \n",
              "4     Afghanistan  2004                                20.064968   \n",
              "...           ...   ...                                      ...   \n",
              "3644     Zimbabwe  2016                                42.561730   \n",
              "3645     Zimbabwe  2017                                44.178635   \n",
              "3646     Zimbabwe  2018                                45.572647   \n",
              "3647     Zimbabwe  2019                                46.781475   \n",
              "3648     Zimbabwe  2020                                52.747670   \n",
              "\n",
              "      Access to clean fuels for cooking  \\\n",
              "0                                   6.2   \n",
              "1                                   7.2   \n",
              "2                                   8.2   \n",
              "3                                   9.5   \n",
              "4                                  10.9   \n",
              "...                                 ...   \n",
              "3644                               29.8   \n",
              "3645                               29.8   \n",
              "3646                               29.9   \n",
              "3647                               30.1   \n",
              "3648                               30.4   \n",
              "\n",
              "      Renewable-electricity-generating-capacity-per-capita  \\\n",
              "0                                                  9.22      \n",
              "1                                                  8.86      \n",
              "2                                                  8.47      \n",
              "3                                                  8.09      \n",
              "4                                                  7.75      \n",
              "...                                                 ...      \n",
              "3644                                              62.88      \n",
              "3645                                              62.33      \n",
              "3646                                              82.53      \n",
              "3647                                              81.40      \n",
              "3648                                              80.61      \n",
              "\n",
              "      Financial flows to developing countries (US $)  \\\n",
              "0                                            20000.0   \n",
              "1                                           130000.0   \n",
              "2                                          3950000.0   \n",
              "3                                         25970000.0   \n",
              "4                                                NaN   \n",
              "...                                              ...   \n",
              "3644                                         30000.0   \n",
              "3645                                       5570000.0   \n",
              "3646                                         10000.0   \n",
              "3647                                        250000.0   \n",
              "3648                                         30000.0   \n",
              "\n",
              "      Renewable energy share in the total final energy consumption (%)  \\\n",
              "0                                                 44.99                  \n",
              "1                                                 45.60                  \n",
              "2                                                 37.83                  \n",
              "3                                                 36.66                  \n",
              "4                                                 44.24                  \n",
              "...                                                 ...                  \n",
              "3644                                              81.90                  \n",
              "3645                                              82.46                  \n",
              "3646                                              80.23                  \n",
              "3647                                              81.50                  \n",
              "3648                                              81.90                  \n",
              "\n",
              "      Electricity from fossil fuels (TWh)  Electricity from nuclear (TWh)  \\\n",
              "0                                    0.16                             0.0   \n",
              "1                                    0.09                             0.0   \n",
              "2                                    0.13                             0.0   \n",
              "3                                    0.31                             0.0   \n",
              "4                                    0.33                             0.0   \n",
              "...                                   ...                             ...   \n",
              "3644                                 3.50                             0.0   \n",
              "3645                                 3.05                             0.0   \n",
              "3646                                 3.73                             0.0   \n",
              "3647                                 3.66                             0.0   \n",
              "3648                                 3.40                             0.0   \n",
              "\n",
              "      Electricity from renewables (TWh)  ...  \\\n",
              "0                                  0.31  ...   \n",
              "1                                  0.50  ...   \n",
              "2                                  0.56  ...   \n",
              "3                                  0.63  ...   \n",
              "4                                  0.56  ...   \n",
              "...                                 ...  ...   \n",
              "3644                               3.32  ...   \n",
              "3645                               4.30  ...   \n",
              "3646                               5.46  ...   \n",
              "3647                               4.58  ...   \n",
              "3648                               4.19  ...   \n",
              "\n",
              "      Primary energy consumption per capita (kWh/person)  \\\n",
              "0                                             302.59482    \n",
              "1                                             236.89185    \n",
              "2                                             210.86215    \n",
              "3                                             229.96822    \n",
              "4                                             204.23125    \n",
              "...                                                 ...    \n",
              "3644                                         3227.68020    \n",
              "3645                                         3068.01150    \n",
              "3646                                         3441.98580    \n",
              "3647                                         3003.65530    \n",
              "3648                                         2680.13180    \n",
              "\n",
              "      Energy intensity level of primary energy (MJ/$2017 PPP GDP)  \\\n",
              "0                                                  1.64             \n",
              "1                                                  1.74             \n",
              "2                                                  1.40             \n",
              "3                                                  1.40             \n",
              "4                                                  1.20             \n",
              "...                                                 ...             \n",
              "3644                                              10.00             \n",
              "3645                                               9.51             \n",
              "3646                                               9.83             \n",
              "3647                                              10.47             \n",
              "3648                                              10.00             \n",
              "\n",
              "      Value_co2_emissions_kt_by_country  \\\n",
              "0                            760.000000   \n",
              "1                            730.000000   \n",
              "2                           1029.999971   \n",
              "3                           1220.000029   \n",
              "4                           1029.999971   \n",
              "...                                 ...   \n",
              "3644                       11020.000460   \n",
              "3645                       10340.000150   \n",
              "3646                       12380.000110   \n",
              "3647                       11760.000230   \n",
              "3648                                NaN   \n",
              "\n",
              "      Renewables (% equivalent primary energy)  gdp_growth  gdp_per_capita  \\\n",
              "0                                          NaN         NaN             NaN   \n",
              "1                                          NaN         NaN             NaN   \n",
              "2                                          NaN         NaN      179.426579   \n",
              "3                                          NaN    8.832278      190.683814   \n",
              "4                                          NaN    1.414118      211.382074   \n",
              "...                                        ...         ...             ...   \n",
              "3644                                       NaN    0.755869     1464.588957   \n",
              "3645                                       NaN    4.709492     1235.189032   \n",
              "3646                                       NaN    4.824211     1254.642265   \n",
              "3647                                       NaN   -6.144236     1316.740657   \n",
              "3648                                       NaN   -6.248748     1214.509820   \n",
              "\n",
              "      Density\\n(P/Km2) Land Area(Km2)   Latitude  Longitude  \n",
              "0                   60       652230.0  33.939110  67.709953  \n",
              "1                   60       652230.0  33.939110  67.709953  \n",
              "2                   60       652230.0  33.939110  67.709953  \n",
              "3                   60       652230.0  33.939110  67.709953  \n",
              "4                   60       652230.0  33.939110  67.709953  \n",
              "...                ...            ...        ...        ...  \n",
              "3644                38       390757.0 -19.015438  29.154857  \n",
              "3645                38       390757.0 -19.015438  29.154857  \n",
              "3646                38       390757.0 -19.015438  29.154857  \n",
              "3647                38       390757.0 -19.015438  29.154857  \n",
              "3648                38       390757.0 -19.015438  29.154857  \n",
              "\n",
              "[3649 rows x 21 columns]"
            ],
            "text/html": [
              "\n",
              "  <div id=\"df-e6c9a426-2fbb-40b7-a0dc-1d5c6ab50311\" class=\"colab-df-container\">\n",
              "    <div>\n",
              "<style scoped>\n",
              "    .dataframe tbody tr th:only-of-type {\n",
              "        vertical-align: middle;\n",
              "    }\n",
              "\n",
              "    .dataframe tbody tr th {\n",
              "        vertical-align: top;\n",
              "    }\n",
              "\n",
              "    .dataframe thead th {\n",
              "        text-align: right;\n",
              "    }\n",
              "</style>\n",
              "<table border=\"1\" class=\"dataframe\">\n",
              "  <thead>\n",
              "    <tr style=\"text-align: right;\">\n",
              "      <th></th>\n",
              "      <th>Entity</th>\n",
              "      <th>Year</th>\n",
              "      <th>Access to electricity (% of population)</th>\n",
              "      <th>Access to clean fuels for cooking</th>\n",
              "      <th>Renewable-electricity-generating-capacity-per-capita</th>\n",
              "      <th>Financial flows to developing countries (US $)</th>\n",
              "      <th>Renewable energy share in the total final energy consumption (%)</th>\n",
              "      <th>Electricity from fossil fuels (TWh)</th>\n",
              "      <th>Electricity from nuclear (TWh)</th>\n",
              "      <th>Electricity from renewables (TWh)</th>\n",
              "      <th>...</th>\n",
              "      <th>Primary energy consumption per capita (kWh/person)</th>\n",
              "      <th>Energy intensity level of primary energy (MJ/$2017 PPP GDP)</th>\n",
              "      <th>Value_co2_emissions_kt_by_country</th>\n",
              "      <th>Renewables (% equivalent primary energy)</th>\n",
              "      <th>gdp_growth</th>\n",
              "      <th>gdp_per_capita</th>\n",
              "      <th>Density\\n(P/Km2)</th>\n",
              "      <th>Land Area(Km2)</th>\n",
              "      <th>Latitude</th>\n",
              "      <th>Longitude</th>\n",
              "    </tr>\n",
              "  </thead>\n",
              "  <tbody>\n",
              "    <tr>\n",
              "      <th>0</th>\n",
              "      <td>Afghanistan</td>\n",
              "      <td>2000</td>\n",
              "      <td>1.613591</td>\n",
              "      <td>6.2</td>\n",
              "      <td>9.22</td>\n",
              "      <td>20000.0</td>\n",
              "      <td>44.99</td>\n",
              "      <td>0.16</td>\n",
              "      <td>0.0</td>\n",
              "      <td>0.31</td>\n",
              "      <td>...</td>\n",
              "      <td>302.59482</td>\n",
              "      <td>1.64</td>\n",
              "      <td>760.000000</td>\n",
              "      <td>NaN</td>\n",
              "      <td>NaN</td>\n",
              "      <td>NaN</td>\n",
              "      <td>60</td>\n",
              "      <td>652230.0</td>\n",
              "      <td>33.939110</td>\n",
              "      <td>67.709953</td>\n",
              "    </tr>\n",
              "    <tr>\n",
              "      <th>1</th>\n",
              "      <td>Afghanistan</td>\n",
              "      <td>2001</td>\n",
              "      <td>4.074574</td>\n",
              "      <td>7.2</td>\n",
              "      <td>8.86</td>\n",
              "      <td>130000.0</td>\n",
              "      <td>45.60</td>\n",
              "      <td>0.09</td>\n",
              "      <td>0.0</td>\n",
              "      <td>0.50</td>\n",
              "      <td>...</td>\n",
              "      <td>236.89185</td>\n",
              "      <td>1.74</td>\n",
              "      <td>730.000000</td>\n",
              "      <td>NaN</td>\n",
              "      <td>NaN</td>\n",
              "      <td>NaN</td>\n",
              "      <td>60</td>\n",
              "      <td>652230.0</td>\n",
              "      <td>33.939110</td>\n",
              "      <td>67.709953</td>\n",
              "    </tr>\n",
              "    <tr>\n",
              "      <th>2</th>\n",
              "      <td>Afghanistan</td>\n",
              "      <td>2002</td>\n",
              "      <td>9.409158</td>\n",
              "      <td>8.2</td>\n",
              "      <td>8.47</td>\n",
              "      <td>3950000.0</td>\n",
              "      <td>37.83</td>\n",
              "      <td>0.13</td>\n",
              "      <td>0.0</td>\n",
              "      <td>0.56</td>\n",
              "      <td>...</td>\n",
              "      <td>210.86215</td>\n",
              "      <td>1.40</td>\n",
              "      <td>1029.999971</td>\n",
              "      <td>NaN</td>\n",
              "      <td>NaN</td>\n",
              "      <td>179.426579</td>\n",
              "      <td>60</td>\n",
              "      <td>652230.0</td>\n",
              "      <td>33.939110</td>\n",
              "      <td>67.709953</td>\n",
              "    </tr>\n",
              "    <tr>\n",
              "      <th>3</th>\n",
              "      <td>Afghanistan</td>\n",
              "      <td>2003</td>\n",
              "      <td>14.738506</td>\n",
              "      <td>9.5</td>\n",
              "      <td>8.09</td>\n",
              "      <td>25970000.0</td>\n",
              "      <td>36.66</td>\n",
              "      <td>0.31</td>\n",
              "      <td>0.0</td>\n",
              "      <td>0.63</td>\n",
              "      <td>...</td>\n",
              "      <td>229.96822</td>\n",
              "      <td>1.40</td>\n",
              "      <td>1220.000029</td>\n",
              "      <td>NaN</td>\n",
              "      <td>8.832278</td>\n",
              "      <td>190.683814</td>\n",
              "      <td>60</td>\n",
              "      <td>652230.0</td>\n",
              "      <td>33.939110</td>\n",
              "      <td>67.709953</td>\n",
              "    </tr>\n",
              "    <tr>\n",
              "      <th>4</th>\n",
              "      <td>Afghanistan</td>\n",
              "      <td>2004</td>\n",
              "      <td>20.064968</td>\n",
              "      <td>10.9</td>\n",
              "      <td>7.75</td>\n",
              "      <td>NaN</td>\n",
              "      <td>44.24</td>\n",
              "      <td>0.33</td>\n",
              "      <td>0.0</td>\n",
              "      <td>0.56</td>\n",
              "      <td>...</td>\n",
              "      <td>204.23125</td>\n",
              "      <td>1.20</td>\n",
              "      <td>1029.999971</td>\n",
              "      <td>NaN</td>\n",
              "      <td>1.414118</td>\n",
              "      <td>211.382074</td>\n",
              "      <td>60</td>\n",
              "      <td>652230.0</td>\n",
              "      <td>33.939110</td>\n",
              "      <td>67.709953</td>\n",
              "    </tr>\n",
              "    <tr>\n",
              "      <th>...</th>\n",
              "      <td>...</td>\n",
              "      <td>...</td>\n",
              "      <td>...</td>\n",
              "      <td>...</td>\n",
              "      <td>...</td>\n",
              "      <td>...</td>\n",
              "      <td>...</td>\n",
              "      <td>...</td>\n",
              "      <td>...</td>\n",
              "      <td>...</td>\n",
              "      <td>...</td>\n",
              "      <td>...</td>\n",
              "      <td>...</td>\n",
              "      <td>...</td>\n",
              "      <td>...</td>\n",
              "      <td>...</td>\n",
              "      <td>...</td>\n",
              "      <td>...</td>\n",
              "      <td>...</td>\n",
              "      <td>...</td>\n",
              "      <td>...</td>\n",
              "    </tr>\n",
              "    <tr>\n",
              "      <th>3644</th>\n",
              "      <td>Zimbabwe</td>\n",
              "      <td>2016</td>\n",
              "      <td>42.561730</td>\n",
              "      <td>29.8</td>\n",
              "      <td>62.88</td>\n",
              "      <td>30000.0</td>\n",
              "      <td>81.90</td>\n",
              "      <td>3.50</td>\n",
              "      <td>0.0</td>\n",
              "      <td>3.32</td>\n",
              "      <td>...</td>\n",
              "      <td>3227.68020</td>\n",
              "      <td>10.00</td>\n",
              "      <td>11020.000460</td>\n",
              "      <td>NaN</td>\n",
              "      <td>0.755869</td>\n",
              "      <td>1464.588957</td>\n",
              "      <td>38</td>\n",
              "      <td>390757.0</td>\n",
              "      <td>-19.015438</td>\n",
              "      <td>29.154857</td>\n",
              "    </tr>\n",
              "    <tr>\n",
              "      <th>3645</th>\n",
              "      <td>Zimbabwe</td>\n",
              "      <td>2017</td>\n",
              "      <td>44.178635</td>\n",
              "      <td>29.8</td>\n",
              "      <td>62.33</td>\n",
              "      <td>5570000.0</td>\n",
              "      <td>82.46</td>\n",
              "      <td>3.05</td>\n",
              "      <td>0.0</td>\n",
              "      <td>4.30</td>\n",
              "      <td>...</td>\n",
              "      <td>3068.01150</td>\n",
              "      <td>9.51</td>\n",
              "      <td>10340.000150</td>\n",
              "      <td>NaN</td>\n",
              "      <td>4.709492</td>\n",
              "      <td>1235.189032</td>\n",
              "      <td>38</td>\n",
              "      <td>390757.0</td>\n",
              "      <td>-19.015438</td>\n",
              "      <td>29.154857</td>\n",
              "    </tr>\n",
              "    <tr>\n",
              "      <th>3646</th>\n",
              "      <td>Zimbabwe</td>\n",
              "      <td>2018</td>\n",
              "      <td>45.572647</td>\n",
              "      <td>29.9</td>\n",
              "      <td>82.53</td>\n",
              "      <td>10000.0</td>\n",
              "      <td>80.23</td>\n",
              "      <td>3.73</td>\n",
              "      <td>0.0</td>\n",
              "      <td>5.46</td>\n",
              "      <td>...</td>\n",
              "      <td>3441.98580</td>\n",
              "      <td>9.83</td>\n",
              "      <td>12380.000110</td>\n",
              "      <td>NaN</td>\n",
              "      <td>4.824211</td>\n",
              "      <td>1254.642265</td>\n",
              "      <td>38</td>\n",
              "      <td>390757.0</td>\n",
              "      <td>-19.015438</td>\n",
              "      <td>29.154857</td>\n",
              "    </tr>\n",
              "    <tr>\n",
              "      <th>3647</th>\n",
              "      <td>Zimbabwe</td>\n",
              "      <td>2019</td>\n",
              "      <td>46.781475</td>\n",
              "      <td>30.1</td>\n",
              "      <td>81.40</td>\n",
              "      <td>250000.0</td>\n",
              "      <td>81.50</td>\n",
              "      <td>3.66</td>\n",
              "      <td>0.0</td>\n",
              "      <td>4.58</td>\n",
              "      <td>...</td>\n",
              "      <td>3003.65530</td>\n",
              "      <td>10.47</td>\n",
              "      <td>11760.000230</td>\n",
              "      <td>NaN</td>\n",
              "      <td>-6.144236</td>\n",
              "      <td>1316.740657</td>\n",
              "      <td>38</td>\n",
              "      <td>390757.0</td>\n",
              "      <td>-19.015438</td>\n",
              "      <td>29.154857</td>\n",
              "    </tr>\n",
              "    <tr>\n",
              "      <th>3648</th>\n",
              "      <td>Zimbabwe</td>\n",
              "      <td>2020</td>\n",
              "      <td>52.747670</td>\n",
              "      <td>30.4</td>\n",
              "      <td>80.61</td>\n",
              "      <td>30000.0</td>\n",
              "      <td>81.90</td>\n",
              "      <td>3.40</td>\n",
              "      <td>0.0</td>\n",
              "      <td>4.19</td>\n",
              "      <td>...</td>\n",
              "      <td>2680.13180</td>\n",
              "      <td>10.00</td>\n",
              "      <td>NaN</td>\n",
              "      <td>NaN</td>\n",
              "      <td>-6.248748</td>\n",
              "      <td>1214.509820</td>\n",
              "      <td>38</td>\n",
              "      <td>390757.0</td>\n",
              "      <td>-19.015438</td>\n",
              "      <td>29.154857</td>\n",
              "    </tr>\n",
              "  </tbody>\n",
              "</table>\n",
              "<p>3649 rows × 21 columns</p>\n",
              "</div>\n",
              "    <div class=\"colab-df-buttons\">\n",
              "\n",
              "  <div class=\"colab-df-container\">\n",
              "    <button class=\"colab-df-convert\" onclick=\"convertToInteractive('df-e6c9a426-2fbb-40b7-a0dc-1d5c6ab50311')\"\n",
              "            title=\"Convert this dataframe to an interactive table.\"\n",
              "            style=\"display:none;\">\n",
              "\n",
              "  <svg xmlns=\"http://www.w3.org/2000/svg\" height=\"24px\" viewBox=\"0 -960 960 960\">\n",
              "    <path d=\"M120-120v-720h720v720H120Zm60-500h600v-160H180v160Zm220 220h160v-160H400v160Zm0 220h160v-160H400v160ZM180-400h160v-160H180v160Zm440 0h160v-160H620v160ZM180-180h160v-160H180v160Zm440 0h160v-160H620v160Z\"/>\n",
              "  </svg>\n",
              "    </button>\n",
              "\n",
              "  <style>\n",
              "    .colab-df-container {\n",
              "      display:flex;\n",
              "      gap: 12px;\n",
              "    }\n",
              "\n",
              "    .colab-df-convert {\n",
              "      background-color: #E8F0FE;\n",
              "      border: none;\n",
              "      border-radius: 50%;\n",
              "      cursor: pointer;\n",
              "      display: none;\n",
              "      fill: #1967D2;\n",
              "      height: 32px;\n",
              "      padding: 0 0 0 0;\n",
              "      width: 32px;\n",
              "    }\n",
              "\n",
              "    .colab-df-convert:hover {\n",
              "      background-color: #E2EBFA;\n",
              "      box-shadow: 0px 1px 2px rgba(60, 64, 67, 0.3), 0px 1px 3px 1px rgba(60, 64, 67, 0.15);\n",
              "      fill: #174EA6;\n",
              "    }\n",
              "\n",
              "    .colab-df-buttons div {\n",
              "      margin-bottom: 4px;\n",
              "    }\n",
              "\n",
              "    [theme=dark] .colab-df-convert {\n",
              "      background-color: #3B4455;\n",
              "      fill: #D2E3FC;\n",
              "    }\n",
              "\n",
              "    [theme=dark] .colab-df-convert:hover {\n",
              "      background-color: #434B5C;\n",
              "      box-shadow: 0px 1px 3px 1px rgba(0, 0, 0, 0.15);\n",
              "      filter: drop-shadow(0px 1px 2px rgba(0, 0, 0, 0.3));\n",
              "      fill: #FFFFFF;\n",
              "    }\n",
              "  </style>\n",
              "\n",
              "    <script>\n",
              "      const buttonEl =\n",
              "        document.querySelector('#df-e6c9a426-2fbb-40b7-a0dc-1d5c6ab50311 button.colab-df-convert');\n",
              "      buttonEl.style.display =\n",
              "        google.colab.kernel.accessAllowed ? 'block' : 'none';\n",
              "\n",
              "      async function convertToInteractive(key) {\n",
              "        const element = document.querySelector('#df-e6c9a426-2fbb-40b7-a0dc-1d5c6ab50311');\n",
              "        const dataTable =\n",
              "          await google.colab.kernel.invokeFunction('convertToInteractive',\n",
              "                                                    [key], {});\n",
              "        if (!dataTable) return;\n",
              "\n",
              "        const docLinkHtml = 'Like what you see? Visit the ' +\n",
              "          '<a target=\"_blank\" href=https://colab.research.google.com/notebooks/data_table.ipynb>data table notebook</a>'\n",
              "          + ' to learn more about interactive tables.';\n",
              "        element.innerHTML = '';\n",
              "        dataTable['output_type'] = 'display_data';\n",
              "        await google.colab.output.renderOutput(dataTable, element);\n",
              "        const docLink = document.createElement('div');\n",
              "        docLink.innerHTML = docLinkHtml;\n",
              "        element.appendChild(docLink);\n",
              "      }\n",
              "    </script>\n",
              "  </div>\n",
              "\n",
              "\n",
              "<div id=\"df-54e38cef-f85e-4648-b0c3-a7b5a003ec9b\">\n",
              "  <button class=\"colab-df-quickchart\" onclick=\"quickchart('df-54e38cef-f85e-4648-b0c3-a7b5a003ec9b')\"\n",
              "            title=\"Suggest charts.\"\n",
              "            style=\"display:none;\">\n",
              "\n",
              "<svg xmlns=\"http://www.w3.org/2000/svg\" height=\"24px\"viewBox=\"0 0 24 24\"\n",
              "     width=\"24px\">\n",
              "    <g>\n",
              "        <path d=\"M19 3H5c-1.1 0-2 .9-2 2v14c0 1.1.9 2 2 2h14c1.1 0 2-.9 2-2V5c0-1.1-.9-2-2-2zM9 17H7v-7h2v7zm4 0h-2V7h2v10zm4 0h-2v-4h2v4z\"/>\n",
              "    </g>\n",
              "</svg>\n",
              "  </button>\n",
              "\n",
              "<style>\n",
              "  .colab-df-quickchart {\n",
              "      --bg-color: #E8F0FE;\n",
              "      --fill-color: #1967D2;\n",
              "      --hover-bg-color: #E2EBFA;\n",
              "      --hover-fill-color: #174EA6;\n",
              "      --disabled-fill-color: #AAA;\n",
              "      --disabled-bg-color: #DDD;\n",
              "  }\n",
              "\n",
              "  [theme=dark] .colab-df-quickchart {\n",
              "      --bg-color: #3B4455;\n",
              "      --fill-color: #D2E3FC;\n",
              "      --hover-bg-color: #434B5C;\n",
              "      --hover-fill-color: #FFFFFF;\n",
              "      --disabled-bg-color: #3B4455;\n",
              "      --disabled-fill-color: #666;\n",
              "  }\n",
              "\n",
              "  .colab-df-quickchart {\n",
              "    background-color: var(--bg-color);\n",
              "    border: none;\n",
              "    border-radius: 50%;\n",
              "    cursor: pointer;\n",
              "    display: none;\n",
              "    fill: var(--fill-color);\n",
              "    height: 32px;\n",
              "    padding: 0;\n",
              "    width: 32px;\n",
              "  }\n",
              "\n",
              "  .colab-df-quickchart:hover {\n",
              "    background-color: var(--hover-bg-color);\n",
              "    box-shadow: 0 1px 2px rgba(60, 64, 67, 0.3), 0 1px 3px 1px rgba(60, 64, 67, 0.15);\n",
              "    fill: var(--button-hover-fill-color);\n",
              "  }\n",
              "\n",
              "  .colab-df-quickchart-complete:disabled,\n",
              "  .colab-df-quickchart-complete:disabled:hover {\n",
              "    background-color: var(--disabled-bg-color);\n",
              "    fill: var(--disabled-fill-color);\n",
              "    box-shadow: none;\n",
              "  }\n",
              "\n",
              "  .colab-df-spinner {\n",
              "    border: 2px solid var(--fill-color);\n",
              "    border-color: transparent;\n",
              "    border-bottom-color: var(--fill-color);\n",
              "    animation:\n",
              "      spin 1s steps(1) infinite;\n",
              "  }\n",
              "\n",
              "  @keyframes spin {\n",
              "    0% {\n",
              "      border-color: transparent;\n",
              "      border-bottom-color: var(--fill-color);\n",
              "      border-left-color: var(--fill-color);\n",
              "    }\n",
              "    20% {\n",
              "      border-color: transparent;\n",
              "      border-left-color: var(--fill-color);\n",
              "      border-top-color: var(--fill-color);\n",
              "    }\n",
              "    30% {\n",
              "      border-color: transparent;\n",
              "      border-left-color: var(--fill-color);\n",
              "      border-top-color: var(--fill-color);\n",
              "      border-right-color: var(--fill-color);\n",
              "    }\n",
              "    40% {\n",
              "      border-color: transparent;\n",
              "      border-right-color: var(--fill-color);\n",
              "      border-top-color: var(--fill-color);\n",
              "    }\n",
              "    60% {\n",
              "      border-color: transparent;\n",
              "      border-right-color: var(--fill-color);\n",
              "    }\n",
              "    80% {\n",
              "      border-color: transparent;\n",
              "      border-right-color: var(--fill-color);\n",
              "      border-bottom-color: var(--fill-color);\n",
              "    }\n",
              "    90% {\n",
              "      border-color: transparent;\n",
              "      border-bottom-color: var(--fill-color);\n",
              "    }\n",
              "  }\n",
              "</style>\n",
              "\n",
              "  <script>\n",
              "    async function quickchart(key) {\n",
              "      const quickchartButtonEl =\n",
              "        document.querySelector('#' + key + ' button');\n",
              "      quickchartButtonEl.disabled = true;  // To prevent multiple clicks.\n",
              "      quickchartButtonEl.classList.add('colab-df-spinner');\n",
              "      try {\n",
              "        const charts = await google.colab.kernel.invokeFunction(\n",
              "            'suggestCharts', [key], {});\n",
              "      } catch (error) {\n",
              "        console.error('Error during call to suggestCharts:', error);\n",
              "      }\n",
              "      quickchartButtonEl.classList.remove('colab-df-spinner');\n",
              "      quickchartButtonEl.classList.add('colab-df-quickchart-complete');\n",
              "    }\n",
              "    (() => {\n",
              "      let quickchartButtonEl =\n",
              "        document.querySelector('#df-54e38cef-f85e-4648-b0c3-a7b5a003ec9b button');\n",
              "      quickchartButtonEl.style.display =\n",
              "        google.colab.kernel.accessAllowed ? 'block' : 'none';\n",
              "    })();\n",
              "  </script>\n",
              "</div>\n",
              "    </div>\n",
              "  </div>\n"
            ]
          },
          "metadata": {},
          "execution_count": 5
        }
      ]
    },
    {
      "cell_type": "code",
      "source": [
        "Y = df['Year']\n",
        "X = df['Access to clean fuels for cooking']\n",
        "describe = X.describe() # ваш код здесь\n",
        "describe"
      ],
      "metadata": {
        "id": "u3OeTGcGp2sY",
        "colab": {
          "base_uri": "https://localhost:8080/"
        },
        "outputId": "ecec0974-a8c0-4143-bc41-818b4704dc41"
      },
      "execution_count": null,
      "outputs": [
        {
          "output_type": "execute_result",
          "data": {
            "text/plain": [
              "count    3480.000000\n",
              "mean       63.255287\n",
              "std        39.043658\n",
              "min         0.000000\n",
              "25%        23.175000\n",
              "50%        83.150000\n",
              "75%       100.000000\n",
              "max       100.000000\n",
              "Name: Access to clean fuels for cooking, dtype: float64"
            ]
          },
          "metadata": {},
          "execution_count": 32
        }
      ]
    },
    {
      "cell_type": "code",
      "source": [
        "mean = X.mean()# (среднее) ваш код здесь\n",
        "mean"
      ],
      "metadata": {
        "id": "ud5DMETOU8hS",
        "colab": {
          "base_uri": "https://localhost:8080/"
        },
        "outputId": "79b3fad3-34d4-4620-cbca-7d0d6e428d9e"
      },
      "execution_count": null,
      "outputs": [
        {
          "output_type": "execute_result",
          "data": {
            "text/plain": [
              "63.25528735632183"
            ]
          },
          "metadata": {},
          "execution_count": 33
        }
      ]
    },
    {
      "cell_type": "code",
      "source": [
        "median = X.median()# (медиана) ваш код здесь\n",
        "median"
      ],
      "metadata": {
        "id": "TVB8P3FDVwxM",
        "colab": {
          "base_uri": "https://localhost:8080/"
        },
        "outputId": "224d0f1a-1915-4460-b291-c5e2e3110dcc"
      },
      "execution_count": null,
      "outputs": [
        {
          "output_type": "execute_result",
          "data": {
            "text/plain": [
              "83.15"
            ]
          },
          "metadata": {},
          "execution_count": 34
        }
      ]
    },
    {
      "cell_type": "code",
      "source": [
        "mode = X.mode()# (мода) ваш код здесь\n",
        "mode"
      ],
      "metadata": {
        "id": "0xHCgiXCVyhs",
        "colab": {
          "base_uri": "https://localhost:8080/"
        },
        "outputId": "952a619a-7ae4-475b-f2ae-484a6c60348a"
      },
      "execution_count": null,
      "outputs": [
        {
          "output_type": "execute_result",
          "data": {
            "text/plain": [
              "0    100.0\n",
              "Name: Access to clean fuels for cooking, dtype: float64"
            ]
          },
          "metadata": {},
          "execution_count": 35
        }
      ]
    },
    {
      "cell_type": "code",
      "source": [
        "min = X.min()# (минимум) ваш код здесь\n",
        "min"
      ],
      "metadata": {
        "id": "HprClRfXVzxW",
        "colab": {
          "base_uri": "https://localhost:8080/"
        },
        "outputId": "c3cb5ce9-223e-4f6e-e34f-c73e8ac17882"
      },
      "execution_count": null,
      "outputs": [
        {
          "output_type": "execute_result",
          "data": {
            "text/plain": [
              "0.0"
            ]
          },
          "metadata": {},
          "execution_count": 36
        }
      ]
    },
    {
      "cell_type": "code",
      "source": [
        "max = X.max()# (максимум) ваш код здесь\n",
        "max"
      ],
      "metadata": {
        "id": "sA2gR7IAV1k3",
        "colab": {
          "base_uri": "https://localhost:8080/"
        },
        "outputId": "dadbcb40-a889-40d9-b780-b9ed8a87b458"
      },
      "execution_count": null,
      "outputs": [
        {
          "output_type": "execute_result",
          "data": {
            "text/plain": [
              "100.0"
            ]
          },
          "metadata": {},
          "execution_count": 48
        }
      ]
    },
    {
      "cell_type": "code",
      "source": [
        "std = X.std()# (стандартное отклонение) Ваш код здесь\n",
        "std"
      ],
      "metadata": {
        "id": "BWeXHW3Vovz4",
        "colab": {
          "base_uri": "https://localhost:8080/"
        },
        "outputId": "d9bc272e-3d53-45e0-a918-c8665c44bbf3"
      },
      "execution_count": null,
      "outputs": [
        {
          "output_type": "execute_result",
          "data": {
            "text/plain": [
              "39.04365757473373"
            ]
          },
          "metadata": {},
          "execution_count": 47
        }
      ]
    },
    {
      "cell_type": "markdown",
      "source": [
        "Вычислите следующие квантили: 25%, 50% (медиана), 75% для числового признака вашего датасета. Затем найдите интерквартильный размах."
      ],
      "metadata": {
        "id": "dZEVd9QIVMyV"
      }
    },
    {
      "cell_type": "code",
      "source": [
        "q1 = X.quantile(0.25)# (25% квантиль) ваш код здесь\n",
        "q1"
      ],
      "metadata": {
        "id": "2UMcBq9dVbVE",
        "colab": {
          "base_uri": "https://localhost:8080/"
        },
        "outputId": "f34f205a-e560-4bb8-8cf5-3cd9cb5158e6"
      },
      "execution_count": null,
      "outputs": [
        {
          "output_type": "execute_result",
          "data": {
            "text/plain": [
              "23.175"
            ]
          },
          "metadata": {},
          "execution_count": 43
        }
      ]
    },
    {
      "cell_type": "code",
      "source": [
        "q2 = X.quantile(0.5)# (50% квантиль) ваш код здесь\n",
        "q2"
      ],
      "metadata": {
        "id": "8joJvKduWJsC",
        "colab": {
          "base_uri": "https://localhost:8080/"
        },
        "outputId": "f11d5934-da79-45a3-e643-ae9369220cff"
      },
      "execution_count": null,
      "outputs": [
        {
          "output_type": "execute_result",
          "data": {
            "text/plain": [
              "83.15"
            ]
          },
          "metadata": {},
          "execution_count": 44
        }
      ]
    },
    {
      "cell_type": "code",
      "source": [
        "q3 = X.quantile(0.75)# (75% квантиль) ваш код здесь\n",
        "q3"
      ],
      "metadata": {
        "id": "pQTQqM3GWLOV",
        "colab": {
          "base_uri": "https://localhost:8080/"
        },
        "outputId": "071bc290-bf46-4594-c254-91c93f32a582"
      },
      "execution_count": null,
      "outputs": [
        {
          "output_type": "execute_result",
          "data": {
            "text/plain": [
              "100.0"
            ]
          },
          "metadata": {},
          "execution_count": 45
        }
      ]
    },
    {
      "cell_type": "markdown",
      "source": [],
      "metadata": {
        "id": "SAW8DnnK9kCL"
      }
    },
    {
      "cell_type": "code",
      "source": [
        "iqr = q3 - q1# (интерквартильный размах) ваш код здесь\n",
        "iqr"
      ],
      "metadata": {
        "id": "lAwZHIbfWMmH",
        "colab": {
          "base_uri": "https://localhost:8080/"
        },
        "outputId": "8e00bf1c-cc81-43c9-a3ec-f3b940c5ddae"
      },
      "execution_count": null,
      "outputs": [
        {
          "output_type": "execute_result",
          "data": {
            "text/plain": [
              "76.825"
            ]
          },
          "metadata": {},
          "execution_count": 46
        }
      ]
    },
    {
      "cell_type": "markdown",
      "source": [
        "Какие выводы можно сделать исходя из полученных статистических данных?"
      ],
      "metadata": {
        "id": "vm0-5sY4WX2I"
      }
    },
    {
      "cell_type": "markdown",
      "source": [
        "**Ответ здесь**\n",
        "\n",
        "```\n",
        "Исходя из данных можно понять, что мода находится в максимальном значении,\n",
        "а нижний квартиль существенно ниже медианы и верхнего квартиля,\n",
        "что свидетельствует о ненормальном распределении и о склоне вправо\n",
        "```\n"
      ],
      "metadata": {
        "id": "OnO1hVGyWe8D"
      }
    },
    {
      "cell_type": "markdown",
      "source": [
        "##Основы визуализации"
      ],
      "metadata": {
        "id": "zDISZbQVWk6m"
      }
    },
    {
      "cell_type": "markdown",
      "source": [
        " Постройте гистограмму переменной (X) относительно категориального признака (Y) из своего датасета."
      ],
      "metadata": {
        "id": "aU8cakZvZBuj"
      }
    },
    {
      "cell_type": "code",
      "source": [
        "y2000 = list(df[df['Year'] == 2000]['Access to clean fuels for cooking'])\n",
        "y2005 = list(df[df['Year'] == 2005]['Access to clean fuels for cooking'])\n",
        "y2010 = list(df[df['Year'] == 2010]['Access to clean fuels for cooking'])\n",
        "y2015 = list(df[df['Year'] == 2015]['Access to clean fuels for cooking'])\n",
        "y2020 = list(df[df['Year'] == 2020]['Access to clean fuels for cooking'])\n",
        "plt.hist([y2000, y2005, y2010, y2015, y2020], bins = 5, label=['2000', '2005', '2010', '2015', '2020'])\n",
        "plt.legend()\n",
        "plt.show()"
      ],
      "metadata": {
        "id": "9-KTIzdfZLmP",
        "colab": {
          "base_uri": "https://localhost:8080/",
          "height": 430
        },
        "outputId": "42ab1937-7d2f-4629-db32-8e07651cc353"
      },
      "execution_count": null,
      "outputs": [
        {
          "output_type": "display_data",
          "data": {
            "text/plain": [
              "<Figure size 640x480 with 1 Axes>"
            ],
            "image/png": "[encoded data removed]"
          },
          "metadata": {}
        }
      ]
    },
    {
      "cell_type": "markdown",
      "source": [
        "Постройте boxplot любого признака из своего датасета.\n",
        "\n",
        "1) boxplot числовой переменной;\n",
        "\n",
        "2) boxplot числовой переменной относительно категориальный переменной;\n",
        "\n",
        "*p.s. Если у вас только один числовой признак, преобразуйте категориальный при помощи LabelEncoder (https://scikit-learn.org/stable/modules/generated/sklearn.preprocessing.LabelEncoder.html)*"
      ],
      "metadata": {
        "id": "zPsEO4m1ZWDy"
      }
    },
    {
      "cell_type": "code",
      "source": [
        "sns.boxplot(y = X, data = df)"
      ],
      "metadata": {
        "id": "ccJLh1r-Zdne",
        "colab": {
          "base_uri": "https://localhost:8080/",
          "height": 428
        },
        "outputId": "e093cfda-a371-4e59-a9a3-c378ee3f26a4"
      },
      "execution_count": null,
      "outputs": [
        {
          "output_type": "execute_result",
          "data": {
            "text/plain": [
              "<Axes: ylabel='Access to clean fuels for cooking'>"
            ]
          },
          "metadata": {},
          "execution_count": 57
        },
        {
          "output_type": "display_data",
          "data": {
            "text/plain": [
              "<Figure size 640x480 with 1 Axes>"
            ],
            "image/png": "[encoded data removed]"
          },
          "metadata": {}
        }
      ]
    },
    {
      "cell_type": "code",
      "source": [
        "sns.boxplot(y = X, x = Y, data = df)"
      ],
      "metadata": {
        "id": "9ZRV3jjlq9NN",
        "colab": {
          "base_uri": "https://localhost:8080/",
          "height": 466
        },
        "outputId": "ffbfbb29-6d5d-4387-f440-2eac5faef112"
      },
      "execution_count": null,
      "outputs": [
        {
          "output_type": "execute_result",
          "data": {
            "text/plain": [
              "<Axes: xlabel='Year', ylabel='Access to clean fuels for cooking'>"
            ]
          },
          "metadata": {},
          "execution_count": 58
        },
        {
          "output_type": "display_data",
          "data": {
            "text/plain": [
              "<Figure size 640x480 with 1 Axes>"
            ],
            "image/png": "[encoded data removed]"
          },
          "metadata": {}
        }
      ]
    },
    {
      "cell_type": "markdown",
      "source": [
        "**ОТВЕТ: На обоих боксплотах не наблюдаюстя выбросы, а заметен постепенный рост медианы с каждым последующим годом, т.е. за 20 лет выросла достуность к чистому топливу для готовки.**"
      ],
      "metadata": {
        "id": "iukYGyJheXWw"
      }
    },
    {
      "cell_type": "markdown",
      "source": [
        "Постройте диаграмму рассеивания для числовых признаков вашего датасета.\n",
        "\n",
        "*p.s. Если у вас только один числовой признак, преобразуйте категориальный при помощи LabelEncoder (https://scikit-learn.org/stable/modules/generated/sklearn.preprocessing.LabelEncoder.html)*"
      ],
      "metadata": {
        "id": "mj8cdITDZh53"
      }
    },
    {
      "cell_type": "code",
      "source": [
        "plt.scatter(df['Access to electricity (% of population)'], X)\n",
        "plt.title('Диаграмма рассеивания ')\n",
        "plt.xlabel('Доступ к электричеству')\n",
        "plt.ylabel('Доступ к чистому топливу для приготовления пищи')\n",
        "plt.show()"
      ],
      "metadata": {
        "colab": {
          "base_uri": "https://localhost:8080/",
          "height": 472
        },
        "id": "xBOWdvuIKktp",
        "outputId": "810217d0-e6a9-4aaa-d1ee-ecbe8915ba03"
      },
      "execution_count": null,
      "outputs": [
        {
          "output_type": "display_data",
          "data": {
            "text/plain": [
              "<Figure size 640x480 with 1 Axes>"
            ],
            "image/png": "[encoded data removed]"
          },
          "metadata": {}
        }
      ]
    },
    {
      "cell_type": "markdown",
      "source": [
        "Постройте матрицу корреляции для двух числовых признаков вашего датасета."
      ],
      "metadata": {
        "id": "S-jG4a5SaFXS"
      }
    },
    {
      "cell_type": "code",
      "source": [
        "sns.heatmap(df[['Access to electricity (% of population)', 'Access to clean fuels for cooking']].corr(), annot=True, cmap='coolwarm')\n",
        "plt.show()"
      ],
      "metadata": {
        "id": "p04Ifq_ZaOHb",
        "colab": {
          "base_uri": "https://localhost:8080/",
          "height": 685
        },
        "outputId": "954c24e7-2f9c-4381-e37e-b2f45e210137"
      },
      "execution_count": null,
      "outputs": [
        {
          "output_type": "display_data",
          "data": {
            "text/plain": [
              "<Figure size 640x480 with 2 Axes>"
            ],
            "image/png": "[encoded data removed]"
          },
          "metadata": {}
        }
      ]
    },
    {
      "cell_type": "markdown",
      "source": [
        "Какие выводы можно сделать на основе графиков и матрицы корреляции?"
      ],
      "metadata": {
        "id": "2MVHWXICaoJ4"
      }
    },
    {
      "cell_type": "markdown",
      "source": [
        "**ОТВЕТ: По диаграмме рассеивания видно, что с увелечением  X, увеличивается Y, следовательно связь прямая, но также можно наблюдать большое кол-во выбросов, которые желательно бы исключить из выборки. Если смотреть на матрицу корреляции, то мы увидим коэф 0.87, что говорит о прямой зависимости между переменными (прямой корреляции)**"
      ],
      "metadata": {
        "id": "HFAFaiNzatLN"
      }
    },
    {
      "cell_type": "markdown",
      "source": [
        "##Задание для гениев*"
      ],
      "metadata": {
        "id": "K5HCSPTPbwfJ"
      }
    },
    {
      "cell_type": "markdown",
      "source": [
        "Реализовать следующие методы поиска выбросов:\n",
        "1. На основе среднего и отклонения\n",
        "2. Критерий Шовене\n",
        "3. С помощью квартилей\n",
        "4. Поиск выбросов по двум переменным\n",
        "\n",
        "[Посмотреть](http://course.omgtu.ru/wp-content/uploads/2021/04/3_%D0%92%D1%8B%D0%B1%D1%80%D0%BE%D1%81%D1%8B.pdf)\n",
        "\n",
        "P.S. в качестве возвразаемого значения методов может быть:\n",
        "1. очищенный датафрейм\n",
        "2. индексы выбросов ```df.series.index```"
      ],
      "metadata": {
        "id": "pil5bgt5b98A"
      }
    },
    {
      "cell_type": "code",
      "source": [
        "\"\"\"\n",
        "\n",
        "Ваш код здесь\n",
        "\n",
        "\"\"\""
      ],
      "metadata": {
        "id": "IXM6eoIvdCBs"
      },
      "execution_count": null,
      "outputs": []
    },
    {
      "cell_type": "markdown",
      "source": [
        "### Пример реализации одного метода"
      ],
      "metadata": {
        "id": "dRQRyxdgD_sk"
      }
    },
    {
      "cell_type": "code",
      "source": [
        "from statistics import median, mean\n",
        "\n",
        "class Outline:\n",
        "  def __init__(self, df):\n",
        "    self.df = df\n",
        "\n",
        "  def delete_outline_by_mean(self, column_name):\n",
        "    mean_data = mean(self.df[column_name])\n",
        "    maximum = mean_data * 2\n",
        "    result = []\n",
        "\n",
        "    for item in self.df[column_name]:\n",
        "      if abs(item - mean_data) < maximum:\n",
        "        result.append(item)\n",
        "\n",
        "    return result\n",
        "\n"
      ],
      "metadata": {
        "id": "lJEOQcx0vavH"
      },
      "execution_count": null,
      "outputs": []
    },
    {
      "cell_type": "code",
      "source": [
        "data = pd.DataFrame(\n",
        "    data = {\n",
        "        \"col1\": [1, 2, 3, 4, 5, 1000],\n",
        "        \"col2\": [1, 2, 3, 2, 1, 4]\n",
        "    }\n",
        ")\n",
        "\n",
        "so = Outline(data)\n",
        "so.delete_outline_by_mean(\"col1\")"
      ],
      "metadata": {
        "colab": {
          "base_uri": "https://localhost:8080/"
        },
        "id": "1EViTEon8Rkj",
        "outputId": "d1fa0b6f-a127-4d89-c2c8-9597251aaac6"
      },
      "execution_count": null,
      "outputs": [
        {
          "output_type": "execute_result",
          "data": {
            "text/plain": [
              "[1, 2, 3, 4, 5]"
            ]
          },
          "metadata": {},
          "execution_count": 39
        }
      ]
    }
  ]
}