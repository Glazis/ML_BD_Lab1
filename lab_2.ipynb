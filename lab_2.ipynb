{
  "cells": [
    {
      "cell_type": "markdown",
      "metadata": {
        "id": "_dGfjiUjUNab"
      },
      "source": [
        "#Задание по практике 2"
      ]
    },
    {
      "cell_type": "code",
      "execution_count": 1,
      "metadata": {
        "colab": {
          "base_uri": "https://localhost:8080/"
        },
        "id": "wXXP-hXKrxPW",
        "outputId": "0eadeb75-ba59-4bc4-e5f1-7dd7727c096b"
      },
      "outputs": [
        {
          "name": "stdout",
          "output_type": "stream",
          "text": [
            "Requirement already satisfied: pandas in c:\\users\\13vit\\appdata\\local\\programs\\python\\python39\\lib\\site-packages (2.1.1)\n",
            "Requirement already satisfied: numpy>=1.22.4 in c:\\users\\13vit\\appdata\\local\\programs\\python\\python39\\lib\\site-packages (from pandas) (1.26.1)\n",
            "Requirement already satisfied: python-dateutil>=2.8.2 in c:\\users\\13vit\\appdata\\local\\programs\\python\\python39\\lib\\site-packages (from pandas) (2.8.2)\n",
            "Requirement already satisfied: pytz>=2020.1 in c:\\users\\13vit\\appdata\\local\\programs\\python\\python39\\lib\\site-packages (from pandas) (2021.3)\n",
            "Requirement already satisfied: tzdata>=2022.1 in c:\\users\\13vit\\appdata\\local\\programs\\python\\python39\\lib\\site-packages (from pandas) (2023.3)\n",
            "Requirement already satisfied: six>=1.5 in c:\\users\\13vit\\appdata\\local\\programs\\python\\python39\\lib\\site-packages (from python-dateutil>=2.8.2->pandas) (1.16.0)\n"
          ]
        },
        {
          "name": "stderr",
          "output_type": "stream",
          "text": [
            "WARNING: There was an error checking the latest version of pip.\n"
          ]
        },
        {
          "name": "stdout",
          "output_type": "stream",
          "text": [
            "Requirement already satisfied: seaborn in c:\\users\\13vit\\appdata\\local\\programs\\python\\python39\\lib\\site-packages (0.13.1)\n",
            "Requirement already satisfied: numpy!=1.24.0,>=1.20 in c:\\users\\13vit\\appdata\\local\\programs\\python\\python39\\lib\\site-packages (from seaborn) (1.26.1)\n",
            "Requirement already satisfied: pandas>=1.2 in c:\\users\\13vit\\appdata\\local\\programs\\python\\python39\\lib\\site-packages (from seaborn) (2.1.1)\n",
            "Requirement already satisfied: matplotlib!=3.6.1,>=3.4 in c:\\users\\13vit\\appdata\\local\\programs\\python\\python39\\lib\\site-packages (from seaborn) (3.5.1)\n",
            "Requirement already satisfied: cycler>=0.10 in c:\\users\\13vit\\appdata\\local\\programs\\python\\python39\\lib\\site-packages (from matplotlib!=3.6.1,>=3.4->seaborn) (0.11.0)\n",
            "Requirement already satisfied: fonttools>=4.22.0 in c:\\users\\13vit\\appdata\\local\\programs\\python\\python39\\lib\\site-packages (from matplotlib!=3.6.1,>=3.4->seaborn) (4.28.4)\n",
            "Requirement already satisfied: kiwisolver>=1.0.1 in c:\\users\\13vit\\appdata\\local\\programs\\python\\python39\\lib\\site-packages (from matplotlib!=3.6.1,>=3.4->seaborn) (1.3.2)\n",
            "Requirement already satisfied: packaging>=20.0 in c:\\users\\13vit\\appdata\\local\\programs\\python\\python39\\lib\\site-packages (from matplotlib!=3.6.1,>=3.4->seaborn) (21.3)\n",
            "Requirement already satisfied: pillow>=6.2.0 in c:\\users\\13vit\\appdata\\local\\programs\\python\\python39\\lib\\site-packages (from matplotlib!=3.6.1,>=3.4->seaborn) (8.4.0)\n",
            "Requirement already satisfied: pyparsing>=2.2.1 in c:\\users\\13vit\\appdata\\local\\programs\\python\\python39\\lib\\site-packages (from matplotlib!=3.6.1,>=3.4->seaborn) (3.0.6)\n",
            "Requirement already satisfied: python-dateutil>=2.7 in c:\\users\\13vit\\appdata\\local\\programs\\python\\python39\\lib\\site-packages (from matplotlib!=3.6.1,>=3.4->seaborn) (2.8.2)\n",
            "Requirement already satisfied: pytz>=2020.1 in c:\\users\\13vit\\appdata\\local\\programs\\python\\python39\\lib\\site-packages (from pandas>=1.2->seaborn) (2021.3)\n",
            "Requirement already satisfied: tzdata>=2022.1 in c:\\users\\13vit\\appdata\\local\\programs\\python\\python39\\lib\\site-packages (from pandas>=1.2->seaborn) (2023.3)\n",
            "Requirement already satisfied: six>=1.5 in c:\\users\\13vit\\appdata\\local\\programs\\python\\python39\\lib\\site-packages (from python-dateutil>=2.7->matplotlib!=3.6.1,>=3.4->seaborn) (1.16.0)\n"
          ]
        },
        {
          "name": "stderr",
          "output_type": "stream",
          "text": [
            "WARNING: There was an error checking the latest version of pip.\n"
          ]
        }
      ],
      "source": [
        "!pip install pandas\n",
        "!pip install seaborn"
      ]
    },
    {
      "cell_type": "code",
      "execution_count": 2,
      "metadata": {
        "id": "7u0VPzz-UKNu"
      },
      "outputs": [],
      "source": [
        "import pandas as pd\n",
        "import seaborn as sns\n",
        "import matplotlib.pyplot as plt"
      ]
    },
    {
      "cell_type": "markdown",
      "metadata": {
        "id": "yKPA-E-VVSS-"
      },
      "source": [
        "##Введение в описательную статистику"
      ]
    },
    {
      "cell_type": "markdown",
      "metadata": {
        "id": "Rrr4WPcGUwOx"
      },
      "source": [
        "1. Выберите категориальную целевую переменную (**Y**)\n",
        "\n",
        "2. Выберите переменную для анализа относительно категории (**X**)\n",
        "\n",
        "3. Выведитие обобщенную статистическую информацию переменной (**X**)\n",
        "\n",
        "2. Вычислите среднее, медиану, моду, минимум, максимум, стандартное отклонение относительно целевой пременной из файла Classification datasets в соответствии с вашим вариантом\n",
        "\n",
        "3. Сделайте вывод относительно полученных результатов\n",
        "\n",
        "p.s если у вас нет категориальных признаков - преобразуйте любой числовой в категориальный (https://pandas.pydata.org/docs/reference/api/pandas.cut.html). Важно **не** использовать преобразованный Y вместе с этим же X (то есть, если вы преобразовали возраст в категорию, то вы не моежет использовать возраст в качестве X и возраст категорию в качестве Y)"
      ]
    },
    {
      "cell_type": "code",
      "execution_count": 3,
      "metadata": {
        "colab": {
          "base_uri": "https://localhost:8080/",
          "height": 565
        },
        "id": "wZiCpTwgUuYw",
        "outputId": "0892b91e-9e43-477c-ab9b-33b97234979a"
      },
      "outputs": [
        {
          "data": {
            "text/html": [
              "<div>\n",
              "<style scoped>\n",
              "    .dataframe tbody tr th:only-of-type {\n",
              "        vertical-align: middle;\n",
              "    }\n",
              "\n",
              "    .dataframe tbody tr th {\n",
              "        vertical-align: top;\n",
              "    }\n",
              "\n",
              "    .dataframe thead th {\n",
              "        text-align: right;\n",
              "    }\n",
              "</style>\n",
              "<table border=\"1\" class=\"dataframe\">\n",
              "  <thead>\n",
              "    <tr style=\"text-align: right;\">\n",
              "      <th></th>\n",
              "      <th>Entity</th>\n",
              "      <th>Year</th>\n",
              "      <th>Access to electricity (% of population)</th>\n",
              "      <th>Access to clean fuels for cooking</th>\n",
              "      <th>Renewable-electricity-generating-capacity-per-capita</th>\n",
              "      <th>Financial flows to developing countries (US $)</th>\n",
              "      <th>Renewable energy share in the total final energy consumption (%)</th>\n",
              "      <th>Electricity from fossil fuels (TWh)</th>\n",
              "      <th>Electricity from nuclear (TWh)</th>\n",
              "      <th>Electricity from renewables (TWh)</th>\n",
              "      <th>...</th>\n",
              "      <th>Primary energy consumption per capita (kWh/person)</th>\n",
              "      <th>Energy intensity level of primary energy (MJ/$2017 PPP GDP)</th>\n",
              "      <th>Value_co2_emissions_kt_by_country</th>\n",
              "      <th>Renewables (% equivalent primary energy)</th>\n",
              "      <th>gdp_growth</th>\n",
              "      <th>gdp_per_capita</th>\n",
              "      <th>Density\\n(P/Km2)</th>\n",
              "      <th>Land Area(Km2)</th>\n",
              "      <th>Latitude</th>\n",
              "      <th>Longitude</th>\n",
              "    </tr>\n",
              "  </thead>\n",
              "  <tbody>\n",
              "    <tr>\n",
              "      <th>0</th>\n",
              "      <td>Afghanistan</td>\n",
              "      <td>2000</td>\n",
              "      <td>1.613591</td>\n",
              "      <td>6.2</td>\n",
              "      <td>9.22</td>\n",
              "      <td>20000.0</td>\n",
              "      <td>44.99</td>\n",
              "      <td>0.16</td>\n",
              "      <td>0.0</td>\n",
              "      <td>0.31</td>\n",
              "      <td>...</td>\n",
              "      <td>302.59482</td>\n",
              "      <td>1.64</td>\n",
              "      <td>760.000000</td>\n",
              "      <td>NaN</td>\n",
              "      <td>NaN</td>\n",
              "      <td>NaN</td>\n",
              "      <td>60</td>\n",
              "      <td>652230.0</td>\n",
              "      <td>33.939110</td>\n",
              "      <td>67.709953</td>\n",
              "    </tr>\n",
              "    <tr>\n",
              "      <th>1</th>\n",
              "      <td>Afghanistan</td>\n",
              "      <td>2001</td>\n",
              "      <td>4.074574</td>\n",
              "      <td>7.2</td>\n",
              "      <td>8.86</td>\n",
              "      <td>130000.0</td>\n",
              "      <td>45.60</td>\n",
              "      <td>0.09</td>\n",
              "      <td>0.0</td>\n",
              "      <td>0.50</td>\n",
              "      <td>...</td>\n",
              "      <td>236.89185</td>\n",
              "      <td>1.74</td>\n",
              "      <td>730.000000</td>\n",
              "      <td>NaN</td>\n",
              "      <td>NaN</td>\n",
              "      <td>NaN</td>\n",
              "      <td>60</td>\n",
              "      <td>652230.0</td>\n",
              "      <td>33.939110</td>\n",
              "      <td>67.709953</td>\n",
              "    </tr>\n",
              "    <tr>\n",
              "      <th>2</th>\n",
              "      <td>Afghanistan</td>\n",
              "      <td>2002</td>\n",
              "      <td>9.409158</td>\n",
              "      <td>8.2</td>\n",
              "      <td>8.47</td>\n",
              "      <td>3950000.0</td>\n",
              "      <td>37.83</td>\n",
              "      <td>0.13</td>\n",
              "      <td>0.0</td>\n",
              "      <td>0.56</td>\n",
              "      <td>...</td>\n",
              "      <td>210.86215</td>\n",
              "      <td>1.40</td>\n",
              "      <td>1029.999971</td>\n",
              "      <td>NaN</td>\n",
              "      <td>NaN</td>\n",
              "      <td>179.426579</td>\n",
              "      <td>60</td>\n",
              "      <td>652230.0</td>\n",
              "      <td>33.939110</td>\n",
              "      <td>67.709953</td>\n",
              "    </tr>\n",
              "    <tr>\n",
              "      <th>3</th>\n",
              "      <td>Afghanistan</td>\n",
              "      <td>2003</td>\n",
              "      <td>14.738506</td>\n",
              "      <td>9.5</td>\n",
              "      <td>8.09</td>\n",
              "      <td>25970000.0</td>\n",
              "      <td>36.66</td>\n",
              "      <td>0.31</td>\n",
              "      <td>0.0</td>\n",
              "      <td>0.63</td>\n",
              "      <td>...</td>\n",
              "      <td>229.96822</td>\n",
              "      <td>1.40</td>\n",
              "      <td>1220.000029</td>\n",
              "      <td>NaN</td>\n",
              "      <td>8.832278</td>\n",
              "      <td>190.683814</td>\n",
              "      <td>60</td>\n",
              "      <td>652230.0</td>\n",
              "      <td>33.939110</td>\n",
              "      <td>67.709953</td>\n",
              "    </tr>\n",
              "    <tr>\n",
              "      <th>4</th>\n",
              "      <td>Afghanistan</td>\n",
              "      <td>2004</td>\n",
              "      <td>20.064968</td>\n",
              "      <td>10.9</td>\n",
              "      <td>7.75</td>\n",
              "      <td>NaN</td>\n",
              "      <td>44.24</td>\n",
              "      <td>0.33</td>\n",
              "      <td>0.0</td>\n",
              "      <td>0.56</td>\n",
              "      <td>...</td>\n",
              "      <td>204.23125</td>\n",
              "      <td>1.20</td>\n",
              "      <td>1029.999971</td>\n",
              "      <td>NaN</td>\n",
              "      <td>1.414118</td>\n",
              "      <td>211.382074</td>\n",
              "      <td>60</td>\n",
              "      <td>652230.0</td>\n",
              "      <td>33.939110</td>\n",
              "      <td>67.709953</td>\n",
              "    </tr>\n",
              "    <tr>\n",
              "      <th>...</th>\n",
              "      <td>...</td>\n",
              "      <td>...</td>\n",
              "      <td>...</td>\n",
              "      <td>...</td>\n",
              "      <td>...</td>\n",
              "      <td>...</td>\n",
              "      <td>...</td>\n",
              "      <td>...</td>\n",
              "      <td>...</td>\n",
              "      <td>...</td>\n",
              "      <td>...</td>\n",
              "      <td>...</td>\n",
              "      <td>...</td>\n",
              "      <td>...</td>\n",
              "      <td>...</td>\n",
              "      <td>...</td>\n",
              "      <td>...</td>\n",
              "      <td>...</td>\n",
              "      <td>...</td>\n",
              "      <td>...</td>\n",
              "      <td>...</td>\n",
              "    </tr>\n",
              "    <tr>\n",
              "      <th>3644</th>\n",
              "      <td>Zimbabwe</td>\n",
              "      <td>2016</td>\n",
              "      <td>42.561730</td>\n",
              "      <td>29.8</td>\n",
              "      <td>62.88</td>\n",
              "      <td>30000.0</td>\n",
              "      <td>81.90</td>\n",
              "      <td>3.50</td>\n",
              "      <td>0.0</td>\n",
              "      <td>3.32</td>\n",
              "      <td>...</td>\n",
              "      <td>3227.68020</td>\n",
              "      <td>10.00</td>\n",
              "      <td>11020.000460</td>\n",
              "      <td>NaN</td>\n",
              "      <td>0.755869</td>\n",
              "      <td>1464.588957</td>\n",
              "      <td>38</td>\n",
              "      <td>390757.0</td>\n",
              "      <td>-19.015438</td>\n",
              "      <td>29.154857</td>\n",
              "    </tr>\n",
              "    <tr>\n",
              "      <th>3645</th>\n",
              "      <td>Zimbabwe</td>\n",
              "      <td>2017</td>\n",
              "      <td>44.178635</td>\n",
              "      <td>29.8</td>\n",
              "      <td>62.33</td>\n",
              "      <td>5570000.0</td>\n",
              "      <td>82.46</td>\n",
              "      <td>3.05</td>\n",
              "      <td>0.0</td>\n",
              "      <td>4.30</td>\n",
              "      <td>...</td>\n",
              "      <td>3068.01150</td>\n",
              "      <td>9.51</td>\n",
              "      <td>10340.000150</td>\n",
              "      <td>NaN</td>\n",
              "      <td>4.709492</td>\n",
              "      <td>1235.189032</td>\n",
              "      <td>38</td>\n",
              "      <td>390757.0</td>\n",
              "      <td>-19.015438</td>\n",
              "      <td>29.154857</td>\n",
              "    </tr>\n",
              "    <tr>\n",
              "      <th>3646</th>\n",
              "      <td>Zimbabwe</td>\n",
              "      <td>2018</td>\n",
              "      <td>45.572647</td>\n",
              "      <td>29.9</td>\n",
              "      <td>82.53</td>\n",
              "      <td>10000.0</td>\n",
              "      <td>80.23</td>\n",
              "      <td>3.73</td>\n",
              "      <td>0.0</td>\n",
              "      <td>5.46</td>\n",
              "      <td>...</td>\n",
              "      <td>3441.98580</td>\n",
              "      <td>9.83</td>\n",
              "      <td>12380.000110</td>\n",
              "      <td>NaN</td>\n",
              "      <td>4.824211</td>\n",
              "      <td>1254.642265</td>\n",
              "      <td>38</td>\n",
              "      <td>390757.0</td>\n",
              "      <td>-19.015438</td>\n",
              "      <td>29.154857</td>\n",
              "    </tr>\n",
              "    <tr>\n",
              "      <th>3647</th>\n",
              "      <td>Zimbabwe</td>\n",
              "      <td>2019</td>\n",
              "      <td>46.781475</td>\n",
              "      <td>30.1</td>\n",
              "      <td>81.40</td>\n",
              "      <td>250000.0</td>\n",
              "      <td>81.50</td>\n",
              "      <td>3.66</td>\n",
              "      <td>0.0</td>\n",
              "      <td>4.58</td>\n",
              "      <td>...</td>\n",
              "      <td>3003.65530</td>\n",
              "      <td>10.47</td>\n",
              "      <td>11760.000230</td>\n",
              "      <td>NaN</td>\n",
              "      <td>-6.144236</td>\n",
              "      <td>1316.740657</td>\n",
              "      <td>38</td>\n",
              "      <td>390757.0</td>\n",
              "      <td>-19.015438</td>\n",
              "      <td>29.154857</td>\n",
              "    </tr>\n",
              "    <tr>\n",
              "      <th>3648</th>\n",
              "      <td>Zimbabwe</td>\n",
              "      <td>2020</td>\n",
              "      <td>52.747670</td>\n",
              "      <td>30.4</td>\n",
              "      <td>80.61</td>\n",
              "      <td>30000.0</td>\n",
              "      <td>81.90</td>\n",
              "      <td>3.40</td>\n",
              "      <td>0.0</td>\n",
              "      <td>4.19</td>\n",
              "      <td>...</td>\n",
              "      <td>2680.13180</td>\n",
              "      <td>10.00</td>\n",
              "      <td>NaN</td>\n",
              "      <td>NaN</td>\n",
              "      <td>-6.248748</td>\n",
              "      <td>1214.509820</td>\n",
              "      <td>38</td>\n",
              "      <td>390757.0</td>\n",
              "      <td>-19.015438</td>\n",
              "      <td>29.154857</td>\n",
              "    </tr>\n",
              "  </tbody>\n",
              "</table>\n",
              "<p>3649 rows × 21 columns</p>\n",
              "</div>"
            ],
            "text/plain": [
              "           Entity  Year  Access to electricity (% of population)  \\\n",
              "0     Afghanistan  2000                                 1.613591   \n",
              "1     Afghanistan  2001                                 4.074574   \n",
              "2     Afghanistan  2002                                 9.409158   \n",
              "3     Afghanistan  2003                                14.738506   \n",
              "4     Afghanistan  2004                                20.064968   \n",
              "...           ...   ...                                      ...   \n",
              "3644     Zimbabwe  2016                                42.561730   \n",
              "3645     Zimbabwe  2017                                44.178635   \n",
              "3646     Zimbabwe  2018                                45.572647   \n",
              "3647     Zimbabwe  2019                                46.781475   \n",
              "3648     Zimbabwe  2020                                52.747670   \n",
              "\n",
              "      Access to clean fuels for cooking  \\\n",
              "0                                   6.2   \n",
              "1                                   7.2   \n",
              "2                                   8.2   \n",
              "3                                   9.5   \n",
              "4                                  10.9   \n",
              "...                                 ...   \n",
              "3644                               29.8   \n",
              "3645                               29.8   \n",
              "3646                               29.9   \n",
              "3647                               30.1   \n",
              "3648                               30.4   \n",
              "\n",
              "      Renewable-electricity-generating-capacity-per-capita  \\\n",
              "0                                                  9.22      \n",
              "1                                                  8.86      \n",
              "2                                                  8.47      \n",
              "3                                                  8.09      \n",
              "4                                                  7.75      \n",
              "...                                                 ...      \n",
              "3644                                              62.88      \n",
              "3645                                              62.33      \n",
              "3646                                              82.53      \n",
              "3647                                              81.40      \n",
              "3648                                              80.61      \n",
              "\n",
              "      Financial flows to developing countries (US $)  \\\n",
              "0                                            20000.0   \n",
              "1                                           130000.0   \n",
              "2                                          3950000.0   \n",
              "3                                         25970000.0   \n",
              "4                                                NaN   \n",
              "...                                              ...   \n",
              "3644                                         30000.0   \n",
              "3645                                       5570000.0   \n",
              "3646                                         10000.0   \n",
              "3647                                        250000.0   \n",
              "3648                                         30000.0   \n",
              "\n",
              "      Renewable energy share in the total final energy consumption (%)  \\\n",
              "0                                                 44.99                  \n",
              "1                                                 45.60                  \n",
              "2                                                 37.83                  \n",
              "3                                                 36.66                  \n",
              "4                                                 44.24                  \n",
              "...                                                 ...                  \n",
              "3644                                              81.90                  \n",
              "3645                                              82.46                  \n",
              "3646                                              80.23                  \n",
              "3647                                              81.50                  \n",
              "3648                                              81.90                  \n",
              "\n",
              "      Electricity from fossil fuels (TWh)  Electricity from nuclear (TWh)  \\\n",
              "0                                    0.16                             0.0   \n",
              "1                                    0.09                             0.0   \n",
              "2                                    0.13                             0.0   \n",
              "3                                    0.31                             0.0   \n",
              "4                                    0.33                             0.0   \n",
              "...                                   ...                             ...   \n",
              "3644                                 3.50                             0.0   \n",
              "3645                                 3.05                             0.0   \n",
              "3646                                 3.73                             0.0   \n",
              "3647                                 3.66                             0.0   \n",
              "3648                                 3.40                             0.0   \n",
              "\n",
              "      Electricity from renewables (TWh)  ...  \\\n",
              "0                                  0.31  ...   \n",
              "1                                  0.50  ...   \n",
              "2                                  0.56  ...   \n",
              "3                                  0.63  ...   \n",
              "4                                  0.56  ...   \n",
              "...                                 ...  ...   \n",
              "3644                               3.32  ...   \n",
              "3645                               4.30  ...   \n",
              "3646                               5.46  ...   \n",
              "3647                               4.58  ...   \n",
              "3648                               4.19  ...   \n",
              "\n",
              "      Primary energy consumption per capita (kWh/person)  \\\n",
              "0                                             302.59482    \n",
              "1                                             236.89185    \n",
              "2                                             210.86215    \n",
              "3                                             229.96822    \n",
              "4                                             204.23125    \n",
              "...                                                 ...    \n",
              "3644                                         3227.68020    \n",
              "3645                                         3068.01150    \n",
              "3646                                         3441.98580    \n",
              "3647                                         3003.65530    \n",
              "3648                                         2680.13180    \n",
              "\n",
              "      Energy intensity level of primary energy (MJ/$2017 PPP GDP)  \\\n",
              "0                                                  1.64             \n",
              "1                                                  1.74             \n",
              "2                                                  1.40             \n",
              "3                                                  1.40             \n",
              "4                                                  1.20             \n",
              "...                                                 ...             \n",
              "3644                                              10.00             \n",
              "3645                                               9.51             \n",
              "3646                                               9.83             \n",
              "3647                                              10.47             \n",
              "3648                                              10.00             \n",
              "\n",
              "      Value_co2_emissions_kt_by_country  \\\n",
              "0                            760.000000   \n",
              "1                            730.000000   \n",
              "2                           1029.999971   \n",
              "3                           1220.000029   \n",
              "4                           1029.999971   \n",
              "...                                 ...   \n",
              "3644                       11020.000460   \n",
              "3645                       10340.000150   \n",
              "3646                       12380.000110   \n",
              "3647                       11760.000230   \n",
              "3648                                NaN   \n",
              "\n",
              "      Renewables (% equivalent primary energy)  gdp_growth  gdp_per_capita  \\\n",
              "0                                          NaN         NaN             NaN   \n",
              "1                                          NaN         NaN             NaN   \n",
              "2                                          NaN         NaN      179.426579   \n",
              "3                                          NaN    8.832278      190.683814   \n",
              "4                                          NaN    1.414118      211.382074   \n",
              "...                                        ...         ...             ...   \n",
              "3644                                       NaN    0.755869     1464.588957   \n",
              "3645                                       NaN    4.709492     1235.189032   \n",
              "3646                                       NaN    4.824211     1254.642265   \n",
              "3647                                       NaN   -6.144236     1316.740657   \n",
              "3648                                       NaN   -6.248748     1214.509820   \n",
              "\n",
              "      Density\\n(P/Km2) Land Area(Km2)   Latitude  Longitude  \n",
              "0                   60       652230.0  33.939110  67.709953  \n",
              "1                   60       652230.0  33.939110  67.709953  \n",
              "2                   60       652230.0  33.939110  67.709953  \n",
              "3                   60       652230.0  33.939110  67.709953  \n",
              "4                   60       652230.0  33.939110  67.709953  \n",
              "...                ...            ...        ...        ...  \n",
              "3644                38       390757.0 -19.015438  29.154857  \n",
              "3645                38       390757.0 -19.015438  29.154857  \n",
              "3646                38       390757.0 -19.015438  29.154857  \n",
              "3647                38       390757.0 -19.015438  29.154857  \n",
              "3648                38       390757.0 -19.015438  29.154857  \n",
              "\n",
              "[3649 rows x 21 columns]"
            ]
          },
          "execution_count": 3,
          "metadata": {},
          "output_type": "execute_result"
        }
      ],
      "source": [
        "df = pd.read_csv('/Users/13vit/Desktop/дз/www/global-data-on-sustainable-energy.csv')\n",
        "df # чтение файла\n"
      ]
    },
    {
      "cell_type": "code",
      "execution_count": 4,
      "metadata": {
        "colab": {
          "base_uri": "https://localhost:8080/"
        },
        "id": "u3OeTGcGp2sY",
        "outputId": "ecec0974-a8c0-4143-bc41-818b4704dc41"
      },
      "outputs": [
        {
          "data": {
            "text/plain": [
              "count    3480.000000\n",
              "mean       63.255287\n",
              "std        39.043658\n",
              "min         0.000000\n",
              "25%        23.175000\n",
              "50%        83.150000\n",
              "75%       100.000000\n",
              "max       100.000000\n",
              "Name: Access to clean fuels for cooking, dtype: float64"
            ]
          },
          "execution_count": 4,
          "metadata": {},
          "output_type": "execute_result"
        }
      ],
      "source": [
        "Y = df['Year']\n",
        "X = df['Access to clean fuels for cooking']\n",
        "describe = X.describe() # ваш код здесь\n",
        "describe"
      ]
    },
    {
      "cell_type": "code",
      "execution_count": 5,
      "metadata": {
        "colab": {
          "base_uri": "https://localhost:8080/"
        },
        "id": "ud5DMETOU8hS",
        "outputId": "79b3fad3-34d4-4620-cbca-7d0d6e428d9e"
      },
      "outputs": [
        {
          "data": {
            "text/plain": [
              "63.25528735632183"
            ]
          },
          "execution_count": 5,
          "metadata": {},
          "output_type": "execute_result"
        }
      ],
      "source": [
        "mean = X.mean()# (среднее) ваш код здесь\n",
        "mean"
      ]
    },
    {
      "cell_type": "code",
      "execution_count": 6,
      "metadata": {
        "colab": {
          "base_uri": "https://localhost:8080/"
        },
        "id": "TVB8P3FDVwxM",
        "outputId": "224d0f1a-1915-4460-b291-c5e2e3110dcc"
      },
      "outputs": [
        {
          "data": {
            "text/plain": [
              "83.15"
            ]
          },
          "execution_count": 6,
          "metadata": {},
          "output_type": "execute_result"
        }
      ],
      "source": [
        "median = X.median()# (медиана) ваш код здесь\n",
        "median"
      ]
    },
    {
      "cell_type": "code",
      "execution_count": 7,
      "metadata": {
        "colab": {
          "base_uri": "https://localhost:8080/"
        },
        "id": "0xHCgiXCVyhs",
        "outputId": "952a619a-7ae4-475b-f2ae-484a6c60348a"
      },
      "outputs": [
        {
          "data": {
            "text/plain": [
              "0    100.0\n",
              "Name: Access to clean fuels for cooking, dtype: float64"
            ]
          },
          "execution_count": 7,
          "metadata": {},
          "output_type": "execute_result"
        }
      ],
      "source": [
        "mode = X.mode()# (мода) ваш код здесь\n",
        "mode"
      ]
    },
    {
      "cell_type": "code",
      "execution_count": 8,
      "metadata": {
        "colab": {
          "base_uri": "https://localhost:8080/"
        },
        "id": "HprClRfXVzxW",
        "outputId": "c3cb5ce9-223e-4f6e-e34f-c73e8ac17882"
      },
      "outputs": [
        {
          "data": {
            "text/plain": [
              "0.0"
            ]
          },
          "execution_count": 8,
          "metadata": {},
          "output_type": "execute_result"
        }
      ],
      "source": [
        "min = X.min()# (минимум) ваш код здесь\n",
        "min"
      ]
    },
    {
      "cell_type": "code",
      "execution_count": 9,
      "metadata": {
        "colab": {
          "base_uri": "https://localhost:8080/"
        },
        "id": "sA2gR7IAV1k3",
        "outputId": "dadbcb40-a889-40d9-b780-b9ed8a87b458"
      },
      "outputs": [
        {
          "data": {
            "text/plain": [
              "100.0"
            ]
          },
          "execution_count": 9,
          "metadata": {},
          "output_type": "execute_result"
        }
      ],
      "source": [
        "max = X.max()# (максимум) ваш код здесь\n",
        "max"
      ]
    },
    {
      "cell_type": "code",
      "execution_count": 10,
      "metadata": {
        "colab": {
          "base_uri": "https://localhost:8080/"
        },
        "id": "BWeXHW3Vovz4",
        "outputId": "d9bc272e-3d53-45e0-a918-c8665c44bbf3"
      },
      "outputs": [
        {
          "data": {
            "text/plain": [
              "39.04365757473373"
            ]
          },
          "execution_count": 10,
          "metadata": {},
          "output_type": "execute_result"
        }
      ],
      "source": [
        "std = X.std()# (стандартное отклонение) Ваш код здесь\n",
        "std"
      ]
    },
    {
      "cell_type": "markdown",
      "metadata": {
        "id": "dZEVd9QIVMyV"
      },
      "source": [
        "Вычислите следующие квантили: 25%, 50% (медиана), 75% для числового признака вашего датасета. Затем найдите интерквартильный размах."
      ]
    },
    {
      "cell_type": "code",
      "execution_count": 11,
      "metadata": {
        "colab": {
          "base_uri": "https://localhost:8080/"
        },
        "id": "2UMcBq9dVbVE",
        "outputId": "f34f205a-e560-4bb8-8cf5-3cd9cb5158e6"
      },
      "outputs": [
        {
          "data": {
            "text/plain": [
              "23.175"
            ]
          },
          "execution_count": 11,
          "metadata": {},
          "output_type": "execute_result"
        }
      ],
      "source": [
        "q1 = X.quantile(0.25)# (25% квантиль) ваш код здесь\n",
        "q1"
      ]
    },
    {
      "cell_type": "code",
      "execution_count": 12,
      "metadata": {
        "colab": {
          "base_uri": "https://localhost:8080/"
        },
        "id": "8joJvKduWJsC",
        "outputId": "f11d5934-da79-45a3-e643-ae9369220cff"
      },
      "outputs": [
        {
          "data": {
            "text/plain": [
              "83.15"
            ]
          },
          "execution_count": 12,
          "metadata": {},
          "output_type": "execute_result"
        }
      ],
      "source": [
        "q2 = X.quantile(0.5)# (50% квантиль) ваш код здесь\n",
        "q2"
      ]
    },
    {
      "cell_type": "code",
      "execution_count": 13,
      "metadata": {
        "colab": {
          "base_uri": "https://localhost:8080/"
        },
        "id": "pQTQqM3GWLOV",
        "outputId": "071bc290-bf46-4594-c254-91c93f32a582"
      },
      "outputs": [
        {
          "data": {
            "text/plain": [
              "100.0"
            ]
          },
          "execution_count": 13,
          "metadata": {},
          "output_type": "execute_result"
        }
      ],
      "source": [
        "q3 = X.quantile(0.75)# (75% квантиль) ваш код здесь\n",
        "q3"
      ]
    },
    {
      "cell_type": "markdown",
      "metadata": {
        "id": "SAW8DnnK9kCL"
      },
      "source": []
    },
    {
      "cell_type": "code",
      "execution_count": 14,
      "metadata": {
        "colab": {
          "base_uri": "https://localhost:8080/"
        },
        "id": "lAwZHIbfWMmH",
        "outputId": "8e00bf1c-cc81-43c9-a3ec-f3b940c5ddae"
      },
      "outputs": [
        {
          "data": {
            "text/plain": [
              "76.825"
            ]
          },
          "execution_count": 14,
          "metadata": {},
          "output_type": "execute_result"
        }
      ],
      "source": [
        "iqr = q3 - q1# (интерквартильный размах) ваш код здесь\n",
        "iqr"
      ]
    },
    {
      "cell_type": "markdown",
      "metadata": {
        "id": "vm0-5sY4WX2I"
      },
      "source": [
        "Какие выводы можно сделать исходя из полученных статистических данных?"
      ]
    },
    {
      "cell_type": "markdown",
      "metadata": {
        "id": "OnO1hVGyWe8D"
      },
      "source": [
        "**Ответ здесь**\n",
        "\n",
        "```\n",
        "Исходя из данных можно понять, что мода находится в максимальном значении,\n",
        "а нижний квартиль существенно ниже медианы и верхнего квартиля,\n",
        "что свидетельствует о ненормальном распределении и о склоне вправо\n",
        "```\n"
      ]
    },
    {
      "cell_type": "markdown",
      "metadata": {
        "id": "zDISZbQVWk6m"
      },
      "source": [
        "##Основы визуализации"
      ]
    },
    {
      "cell_type": "markdown",
      "metadata": {
        "id": "aU8cakZvZBuj"
      },
      "source": [
        " Постройте гистограмму переменной (X) относительно категориального признака (Y) из своего датасета."
      ]
    },
    {
      "cell_type": "code",
      "execution_count": 15,
      "metadata": {
        "colab": {
          "base_uri": "https://localhost:8080/",
          "height": 430
        },
        "id": "9-KTIzdfZLmP",
        "outputId": "42ab1937-7d2f-4629-db32-8e07651cc353"
      },
      "outputs": [
        {
          "data": {
            "image/png": "[encoded data removed]",
            "text/plain": [
              "<Figure size 432x288 with 1 Axes>"
            ]
          },
          "metadata": {
            "needs_background": "light"
          },
          "output_type": "display_data"
        }
      ],
      "source": [
        "y2000 = list(df[df['Year'] == 2000]['Access to clean fuels for cooking'])\n",
        "y2005 = list(df[df['Year'] == 2005]['Access to clean fuels for cooking'])\n",
        "y2010 = list(df[df['Year'] == 2010]['Access to clean fuels for cooking'])\n",
        "y2015 = list(df[df['Year'] == 2015]['Access to clean fuels for cooking'])\n",
        "y2020 = list(df[df['Year'] == 2020]['Access to clean fuels for cooking'])\n",
        "plt.hist([y2000, y2005, y2010, y2015, y2020], bins = 5, label=['2000', '2005', '2010', '2015', '2020'])\n",
        "plt.legend()\n",
        "plt.show()"
      ]
    },
    {
      "cell_type": "markdown",
      "metadata": {
        "id": "zPsEO4m1ZWDy"
      },
      "source": [
        "Постройте boxplot любого признака из своего датасета.\n",
        "\n",
        "1) boxplot числовой переменной;\n",
        "\n",
        "2) boxplot числовой переменной относительно категориальный переменной;\n",
        "\n",
        "*p.s. Если у вас только один числовой признак, преобразуйте категориальный при помощи LabelEncoder (https://scikit-learn.org/stable/modules/generated/sklearn.preprocessing.LabelEncoder.html)*"
      ]
    },
    {
      "cell_type": "code",
      "execution_count": 16,
      "metadata": {
        "colab": {
          "base_uri": "https://localhost:8080/",
          "height": 428
        },
        "id": "ccJLh1r-Zdne",
        "outputId": "e093cfda-a371-4e59-a9a3-c378ee3f26a4"
      },
      "outputs": [
        {
          "data": {
            "text/plain": [
              "<AxesSubplot:ylabel='Access to clean fuels for cooking'>"
            ]
          },
          "execution_count": 16,
          "metadata": {},
          "output_type": "execute_result"
        },
        {
          "data": {
            "image/png": "[encoded data removed]",
            "text/plain": [
              "<Figure size 432x288 with 1 Axes>"
            ]
          },
          "metadata": {
            "needs_background": "light"
          },
          "output_type": "display_data"
        }
      ],
      "source": [
        "sns.boxplot(y = X, data = df)"
      ]
    },
    {
      "cell_type": "code",
      "execution_count": 17,
      "metadata": {
        "colab": {
          "base_uri": "https://localhost:8080/",
          "height": 466
        },
        "id": "9ZRV3jjlq9NN",
        "outputId": "ffbfbb29-6d5d-4387-f440-2eac5faef112"
      },
      "outputs": [
        {
          "data": {
            "text/plain": [
              "<AxesSubplot:xlabel='Year', ylabel='Access to clean fuels for cooking'>"
            ]
          },
          "execution_count": 17,
          "metadata": {},
          "output_type": "execute_result"
        },
        {
          "data": {
            "image/png": "[encoded data removed]",
            "text/plain": [
              "<Figure size 432x288 with 1 Axes>"
            ]
          },
          "metadata": {
            "needs_background": "light"
          },
          "output_type": "display_data"
        }
      ],
      "source": [
        "sns.boxplot(y = X, x = Y, data = df)"
      ]
    },
    {
      "cell_type": "markdown",
      "metadata": {
        "id": "iukYGyJheXWw"
      },
      "source": [
        "**ОТВЕТ: На обоих боксплотах не наблюдаюстя выбросы, а заметен постепенный рост медианы с каждым последующим годом, т.е. за 20 лет выросла достуность к чистому топливу для готовки.**"
      ]
    },
    {
      "cell_type": "markdown",
      "metadata": {
        "id": "mj8cdITDZh53"
      },
      "source": [
        "Постройте диаграмму рассеивания для числовых признаков вашего датасета.\n",
        "\n",
        "*p.s. Если у вас только один числовой признак, преобразуйте категориальный при помощи LabelEncoder (https://scikit-learn.org/stable/modules/generated/sklearn.preprocessing.LabelEncoder.html)*"
      ]
    },
    {
      "cell_type": "code",
      "execution_count": 18,
      "metadata": {
        "colab": {
          "base_uri": "https://localhost:8080/",
          "height": 472
        },
        "id": "xBOWdvuIKktp",
        "outputId": "810217d0-e6a9-4aaa-d1ee-ecbe8915ba03"
      },
      "outputs": [
        {
          "data": {
            "image/png": "[encoded data removed]",
            "text/plain": [
              "<Figure size 432x288 with 1 Axes>"
            ]
          },
          "metadata": {
            "needs_background": "light"
          },
          "output_type": "display_data"
        }
      ],
      "source": [
        "plt.scatter(df['Access to electricity (% of population)'], X)\n",
        "plt.title('Диаграмма рассеивания ')\n",
        "plt.xlabel('Доступ к электричеству')\n",
        "plt.ylabel('Доступ к чистому топливу для приготовления пищи')\n",
        "plt.show()"
      ]
    },
    {
      "cell_type": "markdown",
      "metadata": {
        "id": "S-jG4a5SaFXS"
      },
      "source": [
        "Постройте матрицу корреляции для двух числовых признаков вашего датасета."
      ]
    },
    {
      "cell_type": "code",
      "execution_count": 19,
      "metadata": {
        "colab": {
          "base_uri": "https://localhost:8080/",
          "height": 685
        },
        "id": "p04Ifq_ZaOHb",
        "outputId": "954c24e7-2f9c-4381-e37e-b2f45e210137"
      },
      "outputs": [
        {
          "data": {
            "image/png": "[encoded data removed]",
            "text/plain": [
              "<Figure size 432x288 with 2 Axes>"
            ]
          },
          "metadata": {
            "needs_background": "light"
          },
          "output_type": "display_data"
        }
      ],
      "source": [
        "sns.heatmap(df[['Access to electricity (% of population)', 'Access to clean fuels for cooking']].corr(), annot=True, cmap='coolwarm')\n",
        "plt.show()"
      ]
    },
    {
      "cell_type": "markdown",
      "metadata": {
        "id": "2MVHWXICaoJ4"
      },
      "source": [
        "Какие выводы можно сделать на основе графиков и матрицы корреляции?"
      ]
    },
    {
      "cell_type": "markdown",
      "metadata": {
        "id": "HFAFaiNzatLN"
      },
      "source": [
        "**ОТВЕТ: По диаграмме рассеивания видно, что с увелечением  X, увеличивается Y, следовательно связь прямая, но также можно наблюдать большое кол-во выбросов, которые желательно бы исключить из выборки. Если смотреть на матрицу корреляции, то мы увидим коэф 0.87, что говорит о прямой зависимости между переменными (прямой корреляции)**"
      ]
    },
    {
      "cell_type": "markdown",
      "metadata": {
        "id": "K5HCSPTPbwfJ"
      },
      "source": [
        "##Задание для гениев*  (Не гений)"
      ]
    }
  ],
  "metadata": {
    "colab": {
      "provenance": []
    },
    "kernelspec": {
      "display_name": "Python 3",
      "name": "python3"
    },
    "language_info": {
      "codemirror_mode": {
        "name": "ipython",
        "version": 3
      },
      "file_extension": ".py",
      "mimetype": "text/x-python",
      "name": "python",
      "nbconvert_exporter": "python",
      "pygments_lexer": "ipython3",
      "version": "3.9.4"
    }
  },
  "nbformat": 4,
  "nbformat_minor": 0
}
